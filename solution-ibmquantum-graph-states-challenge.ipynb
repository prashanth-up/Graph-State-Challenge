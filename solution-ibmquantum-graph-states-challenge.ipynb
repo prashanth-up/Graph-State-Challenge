{
  "nbformat": 4,
  "nbformat_minor": 0,
  "metadata": {
    "kernelspec": {
      "name": "python385jvsc74a57bd02c37984f0c4c41f006fabf394370bfaf0ac4a9d64bfeb5b884ef55bf5f845d34",
      "display_name": "Python 3.8.5 64-bit ('ujpra': virtualenv)"
    },
    "language_info": {
      "codemirror_mode": {
        "name": "ipython",
        "version": 3
      },
      "file_extension": ".py",
      "mimetype": "text/x-python",
      "name": "python",
      "nbconvert_exporter": "python",
      "pygments_lexer": "ipython3",
      "version": "3.8.5-final"
    },
    "colab": {
      "name": "ibmquantum-graph-states-challenge.ipynb",
      "provenance": []
    }
  },
  "cells": [
    {
      "cell_type": "markdown",
      "metadata": {
        "id": "iWn-_kGeC6_U"
      },
      "source": [
        "## Higher Fidelity Graph States\n",
        "In this notebook, we will prepare quantum circuits for a 7-qubit graph state and estimate the fidelity through stabilizer measurements using Qiskit. In this example, we use the CTMP method of error mitigation and repeat the graph state measurement 16 times to find statistical error bars.\n",
        "\n",
        "**To Do:\n",
        "Modify the graph state preparation circuit or use your own methods of error mitigation to improve the graph state fidelity.**\n",
        "\n",
        "### Our Solution:\n",
        "We focus on improving gate fidelities by manipulating the graph state function to minimize decoherence. We modify the way the circuit gates run to optimize and reduce noise error. We calibrate our measurements for the CTMP error mitigation using quantum states with two-qubit excitations with custom parameters."
      ]
    },
    {
      "cell_type": "markdown",
      "metadata": {
        "id": "VUCM60qGC6_W"
      },
      "source": [
        "## Imports\n",
        "\n",
        "Begin by importing the necessary packages and defining the functions we will need for the stabilizer measurements."
      ]
    },
    {
      "cell_type": "code",
      "metadata": {
        "scrolled": false,
        "id": "8YOlO6zCC6_X"
      },
      "source": [
        "### install Qiskit and other modules if you don't have them already\n",
        "!pip install -r dependencies/requirements.txt --quiet"
      ],
      "execution_count": null,
      "outputs": []
    },
    {
      "cell_type": "code",
      "metadata": {
        "id": "rDph9qmHC6_Z"
      },
      "source": [
        "# Qiskit module\n",
        "!pip install qiskit\n",
        "from qiskit import QuantumCircuit\n",
        "import qiskit.circuit.library as circuit_library\n",
        "import qiskit.quantum_info as qi\n",
        "import qiskit.ignis.mitigation as mit\n",
        "\n",
        "# Qiskit tools for noisy simulation\n",
        "from qiskit.providers.aer import QasmSimulator\n",
        "from qiskit.providers.aer.noise import NoiseModel\n",
        "from qiskit.providers.aer.utils import insert_noise\n",
        "\n",
        "# Qiskit tools for running and monitoring jobs\n",
        "from qiskit import execute\n",
        "from qiskit.tools.monitor import job_monitor\n",
        "\n",
        "# Other imports\n",
        "import numpy as np\n",
        "\n",
        "# Suppress warnings\n",
        "import warnings\n",
        "warnings.filterwarnings('ignore')"
      ],
      "execution_count": null,
      "outputs": []
    },
    {
      "cell_type": "markdown",
      "metadata": {
        "id": "RpL5TFWGC6_a"
      },
      "source": [
        "In order to run the circuits, first load the backend `ibmq_casablanca` from your account using the `IBMQ` provider. You will receive access to `ibm-q-community/ibmquantumawards/open-science` after registering for the Open Science Prize."
      ]
    },
    {
      "cell_type": "code",
      "metadata": {
        "id": "3ANELIqAC6_b"
      },
      "source": [
        "# Load IBMQ Account data\n",
        "from qiskit import IBMQ\n",
        "IBMQ.load_account()\n",
        "\n",
        "# Get backend for experiment\n",
        "provider = IBMQ.get_provider(hub='ibm-q-community', group='ibmquantumawards', project='open-science')\n",
        "backend = provider.get_backend('ibmq_casablanca')\n",
        "properties = backend.properties()"
      ],
      "execution_count": null,
      "outputs": []
    },
    {
      "cell_type": "markdown",
      "metadata": {
        "id": "8i8Qnfp-C6_c"
      },
      "source": [
        "## Preparing graph states"
      ]
    },
    {
      "cell_type": "markdown",
      "metadata": {
        "id": "ZjgLp6KnC6_d"
      },
      "source": [
        "Here, we prepare the graph state circuit for 7-qubits using the `GraphState` function in Qiskit's circuit library. We define a graph that uses the connectivity map of the quantum system `ibmq_casablanca`."
      ]
    },
    {
      "cell_type": "code",
      "metadata": {
        "id": "--T7UyLnC6_d"
      },
      "source": [
        "\n",
        "num_qubits = 7\n",
        "\n",
        "# adjacency matrix for `ibmq_casablanca`\n",
        "adjmat = [\n",
        "    [0, 1, 0, 0, 0, 0, 0], \n",
        "    [1, 0, 1, 1, 0, 0, 0], \n",
        "    [0, 1, 0, 0, 0, 0, 0], \n",
        "    [0, 1, 0, 0, 0, 1, 0], \n",
        "    [0, 0, 0, 0, 0, 1, 0], \n",
        "    [0, 0, 0, 1, 1, 0, 1], \n",
        "    [0, 0, 0, 0, 0, 1, 0]]"
      ],
      "execution_count": 1,
      "outputs": []
    },
    {
      "cell_type": "markdown",
      "metadata": {
        "id": "Av2qiCZ6C6_e"
      },
      "source": [
        "### Your code goes here\n",
        "\n",
        "How would you prepare a graph state with high fidelity? In the example below, we create it using Qiskit's circuit library at the gate level. You may explore other methods for creating the graph states, including by using pulse-level techniques or accounting for the errors in the quantum system."
      ]
    },
    {
      "cell_type": "code",
      "metadata": {
        "id": "vxLAxojsC6_f"
      },
      "source": [
        "from typing import Union, List\n",
        "import math\n",
        "class GraphStateKP(QuantumCircuit):\n",
        "    def __init__(self,\n",
        "                 adjacency_matrix: Union[List, np.array]) -> None:\n",
        "        \"\"\"Create graph state preparation circuit.\n",
        "\n",
        "        Args:\n",
        "            adjacency_matrix: input graph as n-by-n list of 0-1 lists\n",
        "\n",
        "        Raises:\n",
        "            CircuitError: If adjacency_matrix is not symmetric.\n",
        "\n",
        "        The circuit prepares a graph state with the given adjacency\n",
        "        matrix.\n",
        "        \"\"\"\n",
        "\n",
        "        adjacency_matrix = np.asarray(adjacency_matrix)\n",
        "        if not np.allclose(adjacency_matrix, adjacency_matrix.transpose()):\n",
        "            raise CircuitError(\"The adjacency matrix must be symmetric.\")\n",
        "\n",
        "        num_qubits = len(adjacency_matrix)\n",
        "        super().__init__(num_qubits, name=\"graph: %s\" % (adjacency_matrix))\n",
        "        self.h(0)\n",
        "        self.sdg(1)\n",
        "        self.h(2)\n",
        "        self.sdg(3)\n",
        "        self.h(4)\n",
        "        self.sdg(5)\n",
        "        self.h(6)\n",
        "        self.cx(0,1)\n",
        "        self.cx(2,3)\n",
        "        self.cx(4,5)\n",
        "        self.s(1)\n",
        "        self.s(3)\n",
        "        self.s(5)\n",
        "        self.sdg(6)\n",
        "        self.cx(4,6)\n",
        "        \n",
        "def create_graph_state():\n",
        "    graph_state_circuit = GraphStateKP(adjmat)\n",
        "    return graph_state_circuit"
      ],
      "execution_count": null,
      "outputs": []
    },
    {
      "cell_type": "code",
      "metadata": {
        "colab": {
          "base_uri": "https://localhost:8080/",
          "height": 242
        },
        "id": "2u0UvVfwC6_f",
        "outputId": "1831f5cd-688a-4175-9cba-376314a34971"
      },
      "source": [
        "# the graph state can be created using Qiskit's circuit library\n",
        "state_circuit = create_graph_state()\n",
        "state_circuit.draw()"
      ],
      "execution_count": null,
      "outputs": [
        {
          "output_type": "execute_result",
          "data": {
            "text/html": [
              "<pre style=\"word-wrap: normal;white-space: pre;background: #fff0;line-height: 1.1;font-family: &quot;Courier New&quot;,Courier,monospace\">                             \n",
              "q_0: ──────────■─────────────\n",
              "     ┌─────┐ ┌─┴─┐ ┌───┐     \n",
              "q_1: ┤ SDG ├─┤ X ├─┤ S ├─────\n",
              "     └┬───┬┘ └───┘ └───┘     \n",
              "q_2: ─┤ H ├────■─────────────\n",
              "     ┌┴───┴┐ ┌─┴─┐ ┌───┐     \n",
              "q_3: ┤ SDG ├─┤ X ├─┤ S ├─────\n",
              "     └┬───┬┘ └───┘ └───┘     \n",
              "q_4: ─┤ H ├────■──────────■──\n",
              "     ┌┴───┴┐ ┌─┴─┐ ┌───┐  │  \n",
              "q_5: ┤ SDG ├─┤ X ├─┤ S ├──┼──\n",
              "     └┬───┬┘┌┴───┴┐└───┘┌─┴─┐\n",
              "q_6: ─┤ H ├─┤ SDG ├─────┤ X ├\n",
              "      └───┘ └─────┘     └───┘</pre>"
            ],
            "text/plain": [
              "                             \n",
              "q_0: ──────────■─────────────\n",
              "     ┌─────┐ ┌─┴─┐ ┌───┐     \n",
              "q_1: ┤ SDG ├─┤ X ├─┤ S ├─────\n",
              "     └┬───┬┘ └───┘ └───┘     \n",
              "q_2: ─┤ H ├────■─────────────\n",
              "     ┌┴───┴┐ ┌─┴─┐ ┌───┐     \n",
              "q_3: ┤ SDG ├─┤ X ├─┤ S ├─────\n",
              "     └┬───┬┘ └───┘ └───┘     \n",
              "q_4: ─┤ H ├────■──────────■──\n",
              "     ┌┴───┴┐ ┌─┴─┐ ┌───┐  │  \n",
              "q_5: ┤ SDG ├─┤ X ├─┤ S ├──┼──\n",
              "     └┬───┬┘┌┴───┴┐└───┘┌─┴─┐\n",
              "q_6: ─┤ H ├─┤ SDG ├─────┤ X ├\n",
              "      └───┘ └─────┘     └───┘"
            ]
          },
          "metadata": {
            "tags": []
          },
          "execution_count": 9
        }
      ]
    },
    {
      "cell_type": "markdown",
      "metadata": {
        "id": "AaESRTeJC6_i"
      },
      "source": [
        "## Creating and measuring stabilizers"
      ]
    },
    {
      "cell_type": "markdown",
      "metadata": {
        "id": "llaS4SyQC6_k"
      },
      "source": [
        "We begin by defining functions to create stabilizer measurement circuits, and then appending them onto the circuit used to create the graph states."
      ]
    },
    {
      "cell_type": "code",
      "metadata": {
        "id": "148X032IC6_k"
      },
      "source": [
        "def compute_stabilizer_group(circuit):\n",
        "    \"\"\"Compute the stabilizer group for stabilizer circuit.\"\"\"\n",
        "    state = qi.Statevector.from_instruction(circuit)\n",
        "    labels = []\n",
        "    for i in qi.pauli_basis(state.num_qubits):\n",
        "        val = round(qi.state_fidelity(i.to_matrix()[0], state, validate=False))\n",
        "        if val != 0:\n",
        "            label = i.to_labels()[0]\n",
        "            if val == 1:\n",
        "                label = '+' + label\n",
        "            else:\n",
        "                label = '-' + label\n",
        "            labels.append(label)\n",
        "    return labels\n",
        "\n",
        "def stabilizer_coeff_pauli(stabilizer):\n",
        "    \"\"\"Return the 1 or -1 coeff and Pauli label.\"\"\"\n",
        "    coeff = 1\n",
        "    pauli = coeff\n",
        "    if stabilizer[0] == '-':\n",
        "        coeff = -1\n",
        "    if stabilizer[0] in ['+', '-']:\n",
        "        pauli = stabilizer[1:]\n",
        "    else:\n",
        "        pauli = stabilizer\n",
        "    return coeff, pauli\n",
        "\n",
        "def stabilizer_measure_circuit(stabilizer, initial_circuit=None):\n",
        "    \"\"\"Return a stabilizer measurement circuits.\n",
        "    \n",
        "    Args:\n",
        "        stabilizer (str): a stabilizer string\n",
        "        initial_circuit (QuantumCircuit): Optional, the initial circuit.\n",
        "    \n",
        "    Returns:\n",
        "        QuantumCircuit: the circuit with stabilizer measurements.\n",
        "    \"\"\"\n",
        "    _, pauli = stabilizer_coeff_pauli(stabilizer)\n",
        "    if initial_circuit is None:\n",
        "        circ = QuantumCircuit(len(pauli))\n",
        "    else:\n",
        "        circ = initial_circuit.copy()\n",
        "    for i, s in enumerate(reversed(pauli)):\n",
        "        if s == 'X':\n",
        "            circ.h(i)\n",
        "        if s == 'Y':\n",
        "            circ.sdg(i)\n",
        "            circ.h(i)\n",
        "    circ.measure_all()\n",
        "    return circ"
      ],
      "execution_count": null,
      "outputs": []
    },
    {
      "cell_type": "code",
      "metadata": {
        "colab": {
          "base_uri": "https://localhost:8080/"
        },
        "id": "_xOkDxuGC6_l",
        "outputId": "484cbe6b-e395-488a-fa83-864e582ffd3c"
      },
      "source": [
        "## Compute the stabilizers for this graph state\n",
        "generators = qi.Clifford(state_circuit).stabilizer.pauli.to_labels()\n",
        "stabilizers = compute_stabilizer_group(state_circuit)\n",
        "print('Stabilizers:', stabilizers)\n",
        "print('Generators:', generators)"
      ],
      "execution_count": null,
      "outputs": [
        {
          "output_type": "stream",
          "text": [
            "Stabilizers: ['+IIIIIII', '+IIIIIIZ', '+IIIIIZI', '+IIIIIZZ', '+IIIXYII', '+IIIXYIZ', '+IIIXYZI', '+IIIXYZZ', '+IIIYXII', '+IIIYXIZ', '+IIIYXZI', '+IIIYXZZ', '+IIIZZII', '+IIIZZIZ', '+IIIZZZI', '+IIIZZZZ', '+IZZIIII', '+IZZIIIZ', '+IZZIIZI', '+IZZIIZZ', '+IZZXYII', '+IZZXYIZ', '+IZZXYZI', '+IZZXYZZ', '+IZZYXII', '+IZZYXIZ', '+IZZYXZI', '+IZZYXZZ', '+IZZZZII', '+IZZZZIZ', '+IZZZZZI', '+IZZZZZZ', '+XXYIIII', '+XXYIIIZ', '+XXYIIZI', '+XXYIIZZ', '+XXYXYII', '+XXYXYIZ', '+XXYXYZI', '+XXYXYZZ', '+XXYYXII', '+XXYYXIZ', '+XXYYXZI', '+XXYYXZZ', '+XXYZZII', '+XXYZZIZ', '+XXYZZZI', '+XXYZZZZ', '+XYXIIII', '+XYXIIIZ', '+XYXIIZI', '+XYXIIZZ', '+XYXXYII', '+XYXXYIZ', '+XYXXYZI', '+XYXXYZZ', '+XYXYXII', '+XYXYXIZ', '+XYXYXZI', '+XYXYXZZ', '+XYXZZII', '+XYXZZIZ', '+XYXZZZI', '+XYXZZZZ', '-YIZIIII', '-YIZIIIZ', '-YIZIIZI', '-YIZIIZZ', '-YIZXYII', '-YIZXYIZ', '-YIZXYZI', '-YIZXYZZ', '-YIZYXII', '-YIZYXIZ', '-YIZYXZI', '-YIZYXZZ', '-YIZZZII', '-YIZZZIZ', '-YIZZZZI', '-YIZZZZZ', '-YZIIIII', '-YZIIIIZ', '-YZIIIZI', '-YZIIIZZ', '-YZIXYII', '-YZIXYIZ', '-YZIXYZI', '-YZIXYZZ', '-YZIYXII', '-YZIYXIZ', '-YZIYXZI', '-YZIYXZZ', '-YZIZZII', '-YZIZZIZ', '-YZIZZZI', '-YZIZZZZ', '+ZXXIIII', '+ZXXIIIZ', '+ZXXIIZI', '+ZXXIIZZ', '+ZXXXYII', '+ZXXXYIZ', '+ZXXXYZI', '+ZXXXYZZ', '+ZXXYXII', '+ZXXYXIZ', '+ZXXYXZI', '+ZXXYXZZ', '+ZXXZZII', '+ZXXZZIZ', '+ZXXZZZI', '+ZXXZZZZ', '-ZYYIIII', '-ZYYIIIZ', '-ZYYIIZI', '-ZYYIIZZ', '-ZYYXYII', '-ZYYXYIZ', '-ZYYXYZI', '-ZYYXYZZ', '-ZYYYXII', '-ZYYYXIZ', '-ZYYYXZI', '-ZYYYXZZ', '-ZYYZZII', '-ZYYZZIZ', '-ZYYZZZI', '-ZYYZZZZ']\n",
            "Generators: ['IIIIIIZ', 'IIIIIZZ', 'IIIYXII', 'IIIZZII', 'XYXIIII', 'IZZIIII', 'YIZIIII']\n"
          ],
          "name": "stdout"
        }
      ]
    },
    {
      "cell_type": "code",
      "metadata": {
        "colab": {
          "base_uri": "https://localhost:8080/",
          "height": 272
        },
        "id": "umieQnZ_C6_n",
        "outputId": "0e7a5843-c9fd-414f-dee2-405a51299f06"
      },
      "source": [
        "## Append the stabilizer measurements to the graph state circuit \n",
        "stabilizer_circuits = [stabilizer_measure_circuit(stab, state_circuit)\n",
        "                       for stab in stabilizers]\n",
        "\n",
        "stabilizer_circuits[0].draw()"
      ],
      "execution_count": null,
      "outputs": [
        {
          "output_type": "execute_result",
          "data": {
            "text/html": [
              "<pre style=\"word-wrap: normal;white-space: pre;background: #fff0;line-height: 1.1;font-family: &quot;Courier New&quot;,Courier,monospace\">                                 ░ ┌─┐                  \n",
              "   q_0: ──────────■──────────────░─┤M├──────────────────\n",
              "        ┌─────┐ ┌─┴─┐ ┌───┐      ░ └╥┘┌─┐               \n",
              "   q_1: ┤ SDG ├─┤ X ├─┤ S ├──────░──╫─┤M├───────────────\n",
              "        └┬───┬┘ └───┘ └───┘      ░  ║ └╥┘┌─┐            \n",
              "   q_2: ─┤ H ├────■──────────────░──╫──╫─┤M├────────────\n",
              "        ┌┴───┴┐ ┌─┴─┐ ┌───┐      ░  ║  ║ └╥┘┌─┐         \n",
              "   q_3: ┤ SDG ├─┤ X ├─┤ S ├──────░──╫──╫──╫─┤M├─────────\n",
              "        └┬───┬┘ └───┘ └───┘      ░  ║  ║  ║ └╥┘┌─┐      \n",
              "   q_4: ─┤ H ├────■──────────■───░──╫──╫──╫──╫─┤M├──────\n",
              "        ┌┴───┴┐ ┌─┴─┐ ┌───┐  │   ░  ║  ║  ║  ║ └╥┘┌─┐   \n",
              "   q_5: ┤ SDG ├─┤ X ├─┤ S ├──┼───░──╫──╫──╫──╫──╫─┤M├───\n",
              "        └┬───┬┘┌┴───┴┐└───┘┌─┴─┐ ░  ║  ║  ║  ║  ║ └╥┘┌─┐\n",
              "   q_6: ─┤ H ├─┤ SDG ├─────┤ X ├─░──╫──╫──╫──╫──╫──╫─┤M├\n",
              "         └───┘ └─────┘     └───┘ ░  ║  ║  ║  ║  ║  ║ └╥┘\n",
              "meas: 7/════════════════════════════╩══╩══╩══╩══╩══╩══╩═\n",
              "                                    0  1  2  3  4  5  6 </pre>"
            ],
            "text/plain": [
              "                                 ░ ┌─┐                  \n",
              "   q_0: ──────────■──────────────░─┤M├──────────────────\n",
              "        ┌─────┐ ┌─┴─┐ ┌───┐      ░ └╥┘┌─┐               \n",
              "   q_1: ┤ SDG ├─┤ X ├─┤ S ├──────░──╫─┤M├───────────────\n",
              "        └┬───┬┘ └───┘ └───┘      ░  ║ └╥┘┌─┐            \n",
              "   q_2: ─┤ H ├────■──────────────░──╫──╫─┤M├────────────\n",
              "        ┌┴───┴┐ ┌─┴─┐ ┌───┐      ░  ║  ║ └╥┘┌─┐         \n",
              "   q_3: ┤ SDG ├─┤ X ├─┤ S ├──────░──╫──╫──╫─┤M├─────────\n",
              "        └┬───┬┘ └───┘ └───┘      ░  ║  ║  ║ └╥┘┌─┐      \n",
              "   q_4: ─┤ H ├────■──────────■───░──╫──╫──╫──╫─┤M├──────\n",
              "        ┌┴───┴┐ ┌─┴─┐ ┌───┐  │   ░  ║  ║  ║  ║ └╥┘┌─┐   \n",
              "   q_5: ┤ SDG ├─┤ X ├─┤ S ├──┼───░──╫──╫──╫──╫──╫─┤M├───\n",
              "        └┬───┬┘┌┴───┴┐└───┘┌─┴─┐ ░  ║  ║  ║  ║  ║ └╥┘┌─┐\n",
              "   q_6: ─┤ H ├─┤ SDG ├─────┤ X ├─░──╫──╫──╫──╫──╫──╫─┤M├\n",
              "         └───┘ └─────┘     └───┘ ░  ║  ║  ║  ║  ║  ║ └╥┘\n",
              "meas: 7/════════════════════════════╩══╩══╩══╩══╩══╩══╩═\n",
              "                                    0  1  2  3  4  5  6 "
            ]
          },
          "metadata": {
            "tags": []
          },
          "execution_count": 13
        }
      ]
    },
    {
      "cell_type": "markdown",
      "metadata": {
        "id": "zJ1ZBZ4bC6_o"
      },
      "source": [
        "## Measurement mitigation\n",
        "\n",
        "Noisy measurements impact our ability to accurately measure the state fidelity. For our default example we calibrate our measurements for the CTMP method using states with two-qubit excitations."
      ]
    },
    {
      "cell_type": "code",
      "metadata": {
        "id": "qIoww82-C6_o"
      },
      "source": [
        "labels = ['0000000', '0000011', '0000101', '0000110',\n",
        "          '0001001', '0001010', '0001100', \n",
        "          '0010001', '0010010', '0010100', '0011000', \n",
        "          '0100001', '0100010', '0100100', '0101000', '0110000', \n",
        "          '1000001', '1000010', '1000100', '1001000', '1010000', '1100000', \n",
        "          '1111111']\n",
        "meas_cal_circuits, metadata = mit.expval_meas_mitigator_circuits(num_qubits, method='CTMP',labels=labels)"
      ],
      "execution_count": null,
      "outputs": []
    },
    {
      "cell_type": "code",
      "metadata": {
        "id": "-iqb0RiqC6_p"
      },
      "source": [
        "[meas_cal_circuits_full, state_labels] = mit.complete_meas_cal(range(num_qubits))"
      ],
      "execution_count": null,
      "outputs": []
    },
    {
      "cell_type": "markdown",
      "metadata": {
        "id": "tGYKvLHEC6_p"
      },
      "source": [
        "## Run the circuits"
      ]
    },
    {
      "cell_type": "markdown",
      "metadata": {
        "id": "qTHl9cGgC6_r"
      },
      "source": [
        "We will run the circuits on the `ibmq_casablanca` quantum system."
      ]
    },
    {
      "cell_type": "markdown",
      "metadata": {
        "id": "KOQzITO1C6_r"
      },
      "source": [
        "In order to debug more quickly and avoid queues, you may consider using a simulator backend modeled after the real quantum system. This will use the noise model of `ibmq_casablanca` to do simulations. You may uncomment the line below to do so. **Note that the fidelities of your graph states will generally be higher on the simulator, but the Open Science Prize is awarded for the best fidelities on the real quantum system.**"
      ]
    },
    {
      "cell_type": "code",
      "metadata": {
        "id": "93c3mtkwC6_r"
      },
      "source": [
        "backend = QasmSimulator.from_backend(provider.get_backend('ibmq_casablanca'))"
      ],
      "execution_count": null,
      "outputs": []
    },
    {
      "cell_type": "markdown",
      "metadata": {
        "id": "IfgCgMjtC6_s"
      },
      "source": [
        "We run the measurement calibration circuits in a separate job from the graph state circuits.  We repeat both 16 times and use the mean as the final value. \n",
        "\n",
        "In order to debug more quickly, you may consider reducing `reps` from 16 to 1. **Note that the final submissions will need to be executed with 16 repetitions.**"
      ]
    },
    {
      "cell_type": "code",
      "metadata": {
        "id": "9QVGYlcVC6_s"
      },
      "source": [
        "reps = 16"
      ],
      "execution_count": null,
      "outputs": []
    },
    {
      "cell_type": "code",
      "metadata": {
        "scrolled": false,
        "colab": {
          "base_uri": "https://localhost:8080/"
        },
        "id": "ftQOE7uvC6_s",
        "outputId": "aa29bb9d-38bb-4270-ed8d-057ac4e784ec"
      },
      "source": [
        "all_jobs = []\n",
        "all_jobs_mit = []\n",
        "\n",
        "for ii in range(reps):\n",
        "\n",
        "    # Run QPT on backend\n",
        "    shots = 8192\n",
        "    il = [0,1,2,3,4,5,6]\n",
        "    \n",
        "    job_backend = execute(stabilizer_circuits, backend, shots=shots, initial_layout=il)\n",
        "    job_mit_backend = execute(meas_cal_circuits, backend, shots=shots, initial_layout=il)\n",
        "    print('Job IDs ({}/{}): \\n measurement calibration: {}\\n stabilizer measurements: {}'.format(\n",
        "        ii+1, reps, job_mit_backend.job_id(), job_backend.job_id()))\n",
        "\n",
        "    all_jobs.append(job_backend)\n",
        "    all_jobs_mit.append(job_mit_backend)"
      ],
      "execution_count": null,
      "outputs": [
        {
          "output_type": "stream",
          "text": [
            "Job IDs (1/16): \n",
            " measurement calibration: ac8239b3-640d-451e-ac30-ad5be7d7f873\n",
            " stabilizer measurements: 739fff17-2b54-493d-a567-e56427f9e334\n",
            "Job IDs (2/16): \n",
            " measurement calibration: f9ca633e-a3f7-429e-87d9-bc5075861c51\n",
            " stabilizer measurements: 8271568e-2255-4b4f-a48d-32f5857d913a\n",
            "Job IDs (3/16): \n",
            " measurement calibration: f34be18a-8cd4-411e-8f12-6bd286bc8a84\n",
            " stabilizer measurements: dad2a1bb-4704-42a0-8be1-c02a82a62b39\n",
            "Job IDs (4/16): \n",
            " measurement calibration: 0758bb50-f135-4a15-bd94-14916991f9f8\n",
            " stabilizer measurements: fbc3b79c-3d44-4757-8fc9-73cdfe49b617\n",
            "Job IDs (5/16): \n",
            " measurement calibration: 1f8cea35-3b7e-40aa-b1f6-348f4da79414\n",
            " stabilizer measurements: a24c2d81-f0aa-4ca8-a4ac-bd0d90d8d82d\n",
            "Job IDs (6/16): \n",
            " measurement calibration: bfcbd114-3399-41b7-a442-82f12fba4b88\n",
            " stabilizer measurements: 9401e811-a057-4537-bf4b-543fd11a7d02\n",
            "Job IDs (7/16): \n",
            " measurement calibration: c9f428aa-8c19-4d02-9380-c4a5caad2e1f\n",
            " stabilizer measurements: ea2a0de9-7f3c-4ebe-ab30-c7a92bf7344c\n",
            "Job IDs (8/16): \n",
            " measurement calibration: 4d53cd3f-94c5-4533-9cf1-0f191b36df8f\n",
            " stabilizer measurements: ba95378d-4293-4186-8187-1d6c4ac9178d\n",
            "Job IDs (9/16): \n",
            " measurement calibration: f01f28ec-bfe0-4d3d-b4ea-89728aa922e6\n",
            " stabilizer measurements: 132ec300-92e8-4bf4-8098-0652634a9dc2\n",
            "Job IDs (10/16): \n",
            " measurement calibration: 5335d6cb-4cd5-4772-8206-891843a09911\n",
            " stabilizer measurements: 6058247c-6d0b-4490-838a-4041d9f6720a\n",
            "Job IDs (11/16): \n",
            " measurement calibration: 1595a2d8-76f7-4b13-9917-9d110042203b\n",
            " stabilizer measurements: b402ecd9-52c3-4368-83ec-54fda7e2d620\n",
            "Job IDs (12/16): \n",
            " measurement calibration: 28a41b66-736c-4ffa-bd35-653c8f80a057\n",
            " stabilizer measurements: fe0da3e7-770d-4df8-be46-82ebb2bbe182\n",
            "Job IDs (13/16): \n",
            " measurement calibration: f88295e3-2b16-4cbf-bc0f-fbf8ae51bd00\n",
            " stabilizer measurements: a4a40821-904d-44cd-9a99-7d944f0937af\n",
            "Job IDs (14/16): \n",
            " measurement calibration: ffc0c18e-d938-4ed6-8e0a-b6c69588892b\n",
            " stabilizer measurements: ea931384-0111-459c-b07f-96ffca0b8299\n",
            "Job IDs (15/16): \n",
            " measurement calibration: a3b67a22-4d40-485e-a1ca-fdf768c40261\n",
            " stabilizer measurements: eb307838-063b-4efa-8777-b92ee783f933\n",
            "Job IDs (16/16): \n",
            " measurement calibration: 25d51e63-8fee-4652-8b7a-aa86be717941\n",
            " stabilizer measurements: aa543dbb-8e81-41c3-b975-83936f0f7b8f\n"
          ],
          "name": "stdout"
        }
      ]
    },
    {
      "cell_type": "markdown",
      "metadata": {
        "id": "wEJ-TgGgC6_u"
      },
      "source": [
        "We can monitor the status of the jobs using Qiskit's job monitoring tools."
      ]
    },
    {
      "cell_type": "code",
      "metadata": {
        "colab": {
          "base_uri": "https://localhost:8080/"
        },
        "id": "xatDQ13QC6_u",
        "outputId": "4beb0139-bf1d-4181-a17e-ceb788668bec"
      },
      "source": [
        "for job in all_jobs:\n",
        "    job_monitor(job)\n",
        "    try:\n",
        "        if job.error_message() is not None:\n",
        "            print(job.error_message())\n",
        "    except:\n",
        "        pass"
      ],
      "execution_count": null,
      "outputs": [
        {
          "output_type": "stream",
          "text": [
            "\rJob Status: job has successfully run\n",
            "\rJob Status: job has successfully run\n",
            "\rJob Status: job has successfully run\n",
            "\rJob Status: job has successfully run\n",
            "\rJob Status: job has successfully run\n",
            "\rJob Status: job has successfully run\n",
            "\rJob Status: job has successfully run\n",
            "\rJob Status: job has successfully run\n",
            "\rJob Status: job has successfully run\n",
            "\rJob Status: job has successfully run\n",
            "\rJob Status: job has successfully run\n",
            "\rJob Status: job has successfully run\n",
            "\rJob Status: job has successfully run\n",
            "\rJob Status: job has successfully run\n",
            "\rJob Status: job has successfully run\n",
            "\rJob Status: job has successfully run\n"
          ],
          "name": "stdout"
        }
      ]
    },
    {
      "cell_type": "markdown",
      "metadata": {
        "id": "G1Q48i53C6_v"
      },
      "source": [
        "## Post-processing and computing fidelities"
      ]
    },
    {
      "cell_type": "markdown",
      "metadata": {
        "id": "L0AjasCEC6_v"
      },
      "source": [
        "Once the jobs are completed, we can get the results back as follows."
      ]
    },
    {
      "cell_type": "code",
      "metadata": {
        "id": "Oa5WomrrC6_v"
      },
      "source": [
        "result_backend = []\n",
        "result_mit_backend = []\n",
        "for job in all_jobs:\n",
        "    # Retrieve results (this may take a while depending on the queue)\n",
        "    result_backend.append(job.result())\n",
        "    \n",
        "for job in all_jobs_mit:\n",
        "    result_mit_backend.append(job.result())"
      ],
      "execution_count": null,
      "outputs": []
    },
    {
      "cell_type": "markdown",
      "metadata": {
        "id": "nS6kCx4EC6_w"
      },
      "source": [
        "Finally, we compute the fidelities of the graph states. You may consider creating your own method for error mitigation by updating the `stabilizer_expvals` function below. Here, we will use the default methods provided in Qiskit."
      ]
    },
    {
      "cell_type": "code",
      "metadata": {
        "id": "xvvtjKSqC6_w"
      },
      "source": [
        "def stabilizer_measure_diagonal(stabilizer):\n",
        "    \"\"\"Return the diagonal vector for a stabilizer measurement.\n",
        "    \n",
        "    Args:\n",
        "        stabilizer (str): a stabilizer string\n",
        "    \n",
        "    Returns:\n",
        "        np.ndarray: the diagonal for measurement in the stabilizer basis.\n",
        "    \"\"\"\n",
        "    coeff, pauli = stabilizer_coeff_pauli(stabilizer)\n",
        "    diag = np.array([1])\n",
        "    for s in reversed(pauli):\n",
        "        if s == 'I':\n",
        "            tmp = np.array([1, 1])\n",
        "        else:\n",
        "            tmp = np.array([1, -1])\n",
        "        diag = np.kron(tmp, diag)\n",
        "    return coeff * diag\n",
        "    \n",
        "def stabilizer_fidelity(expvals, stddevs=None):\n",
        "    \"\"\"Compute stabilizer state fidelity from stabilizer expvals.\"\"\"\n",
        "    mean = np.mean(expvals)\n",
        "    if stddevs is None:\n",
        "        return mean\n",
        "    stddev = np.sqrt(np.sum(stddevs ** 2))\n",
        "    return mean, stddev"
      ],
      "execution_count": null,
      "outputs": []
    },
    {
      "cell_type": "markdown",
      "metadata": {
        "id": "SBGdVXAeC6_w"
      },
      "source": [
        "### Your code goes here\n",
        "\n",
        "You may consider updating the function below to change how the measurement calibration circuits are used to compute the fidelity of the graph state."
      ]
    },
    {
      "cell_type": "code",
      "metadata": {
        "id": "XryHmlNNC6_x"
      },
      "source": [
        "def stabilizer_expvals(result, stabilizers, meas_mitigator=None):\n",
        "    \"\"\"Compute expectation values from stabilizer measurement results.\"\"\"\n",
        "    \n",
        "    expvals = []\n",
        "    stddevs = []\n",
        "    for i, stab in enumerate(stabilizers):\n",
        "        expval, stddev = mit.expectation_value(\n",
        "            result.get_counts(i),\n",
        "            diagonal=stabilizer_measure_diagonal(stab),\n",
        "            meas_mitigator=meas_mitigator)\n",
        "        expvals.append(expval)\n",
        "        stddevs.append(stddev)\n",
        "    return np.array(expvals), np.array(stddevs)\n"
      ],
      "execution_count": null,
      "outputs": []
    },
    {
      "cell_type": "code",
      "metadata": {
        "id": "ULtToxCKC6_x"
      },
      "source": [
        "## Mitigate the stabilizer expectation values \n",
        "F_nomit_backend = []\n",
        "F_mit_backend = []\n",
        "\n",
        "for ii in range(reps):\n",
        "    # Unmitigated Expectation Values\n",
        "    expvals_nomit_b, stddevs_nomit_b = stabilizer_expvals(\n",
        "        result_backend[ii], stabilizers)\n",
        "  \n",
        "    # Fit measurement error mitigators\n",
        "    mitigator_backend = mit.ExpvalMeasMitigatorFitter(result_mit_backend[ii], metadata).fit()\n",
        "\n",
        "    # Measurement error mitigated expectation values\n",
        "    expvals_mit_b, stddevs_mit_b = stabilizer_expvals(\n",
        "        result_backend[ii], stabilizers, meas_mitigator=mitigator_backend)\n",
        "    \n",
        "    # save the fidelities for this iteration\n",
        "    F_nomit_backend.append(stabilizer_fidelity(expvals_nomit_b, stddevs_nomit_b)[0])\n",
        "    F_mit_backend.append(stabilizer_fidelity(expvals_mit_b, stddevs_mit_b)[0])"
      ],
      "execution_count": null,
      "outputs": []
    },
    {
      "cell_type": "markdown",
      "metadata": {
        "id": "btGOq5vDC6_x"
      },
      "source": [
        "Report the fidelity estimates."
      ]
    },
    {
      "cell_type": "code",
      "metadata": {
        "colab": {
          "base_uri": "https://localhost:8080/"
        },
        "id": "IeUNazp3C6_y",
        "outputId": "2bc74141-a71a-41ea-9dbd-ba2ce0ceb4bd"
      },
      "source": [
        "## The final results\n",
        "\n",
        "print('Graph-state fidelity estimates')\n",
        "print('\\nNo mitigation')\n",
        "print('F({}) = {:.3f} \\u00B1 {:.3f}'.format(\n",
        "    properties.backend_name, np.mean(F_nomit_backend), np.std(F_nomit_backend)))\n",
        "\n",
        "print('\\nCTMP error mitigation')\n",
        "print('F({}) = {:.3f} \\u00B1 {:.3f}'.format(\n",
        "    properties.backend_name, np.mean(F_mit_backend), np.std(F_mit_backend)))"
      ],
      "execution_count": null,
      "outputs": [
        {
          "output_type": "stream",
          "text": [
            "Graph-state fidelity estimates\n",
            "\n",
            "No mitigation\n",
            "F(ibmq_casablanca) = 0.797 ± 0.002\n",
            "\n",
            "CTMP error mitigation\n",
            "F(ibmq_casablanca) = 0.929 ± 0.003\n"
          ],
          "name": "stdout"
        }
      ]
    },
    {
      "cell_type": "markdown",
      "metadata": {
        "id": "AM6wkmXTC6_y"
      },
      "source": [
        "## Qiskit version"
      ]
    },
    {
      "cell_type": "code",
      "metadata": {
        "id": "fE5FYFGAC6_y",
        "colab": {
          "base_uri": "https://localhost:8080/",
          "height": 332
        },
        "outputId": "b69535bb-60fe-4531-cf18-9493d3c9f54c"
      },
      "source": [
        "import qiskit.tools.jupyter\n",
        "%qiskit_version_table"
      ],
      "execution_count": null,
      "outputs": [
        {
          "output_type": "display_data",
          "data": {
            "text/html": [
              "<h3>Version Information</h3><table><tr><th>Qiskit Software</th><th>Version</th></tr><tr><td>Qiskit</td><td>None</td></tr><tr><td>Terra</td><td>0.17.1</td></tr><tr><td>Aer</td><td>0.8.1</td></tr><tr><td>Ignis</td><td>0.6.0</td></tr><tr><td>Aqua</td><td>0.9.1</td></tr><tr><td>IBM Q Provider</td><td>0.12.2</td></tr><tr><th>System information</th></tr><tr><td>Python</td><td>3.7.10 (default, Feb 20 2021, 21:17:23) \n",
              "[GCC 7.5.0]</td></tr><tr><td>OS</td><td>Linux</td></tr><tr><td>CPUs</td><td>1</td></tr><tr><td>Memory (Gb)</td><td>12.71588134765625</td></tr><tr><td colspan='2'>Sat Apr 17 00:12:17 2021 UTC</td></tr></table>"
            ],
            "text/plain": [
              "<IPython.core.display.HTML object>"
            ]
          },
          "metadata": {
            "tags": []
          }
        }
      ]
    }
  ]
}